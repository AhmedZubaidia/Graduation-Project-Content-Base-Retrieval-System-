{
  "nbformat": 4,
  "nbformat_minor": 0,
  "metadata": {
    "colab": {
      "provenance": []
    },
    "kernelspec": {
      "name": "python3",
      "display_name": "Python 3"
    },
    "language_info": {
      "name": "python"
    }
  },
  "cells": [
    {
      "cell_type": "code",
      "source": [
        "!pip install openai==0.28.0\n",
        "\n"
      ],
      "metadata": {
        "colab": {
          "base_uri": "https://localhost:8080/"
        },
        "id": "K-4LZUT8kCqg",
        "outputId": "2b4345e1-01e7-426b-f455-a87920edd304"
      },
      "execution_count": null,
      "outputs": [
        {
          "output_type": "stream",
          "name": "stdout",
          "text": [
            "Requirement already satisfied: openai==0.28.0 in /usr/local/lib/python3.11/dist-packages (0.28.0)\n",
            "Requirement already satisfied: requests>=2.20 in /usr/local/lib/python3.11/dist-packages (from openai==0.28.0) (2.32.3)\n",
            "Requirement already satisfied: tqdm in /usr/local/lib/python3.11/dist-packages (from openai==0.28.0) (4.67.1)\n",
            "Requirement already satisfied: aiohttp in /usr/local/lib/python3.11/dist-packages (from openai==0.28.0) (3.11.11)\n",
            "Requirement already satisfied: charset-normalizer<4,>=2 in /usr/local/lib/python3.11/dist-packages (from requests>=2.20->openai==0.28.0) (3.4.1)\n",
            "Requirement already satisfied: idna<4,>=2.5 in /usr/local/lib/python3.11/dist-packages (from requests>=2.20->openai==0.28.0) (3.10)\n",
            "Requirement already satisfied: urllib3<3,>=1.21.1 in /usr/local/lib/python3.11/dist-packages (from requests>=2.20->openai==0.28.0) (2.3.0)\n",
            "Requirement already satisfied: certifi>=2017.4.17 in /usr/local/lib/python3.11/dist-packages (from requests>=2.20->openai==0.28.0) (2024.12.14)\n",
            "Requirement already satisfied: aiohappyeyeballs>=2.3.0 in /usr/local/lib/python3.11/dist-packages (from aiohttp->openai==0.28.0) (2.4.4)\n",
            "Requirement already satisfied: aiosignal>=1.1.2 in /usr/local/lib/python3.11/dist-packages (from aiohttp->openai==0.28.0) (1.3.2)\n",
            "Requirement already satisfied: attrs>=17.3.0 in /usr/local/lib/python3.11/dist-packages (from aiohttp->openai==0.28.0) (25.1.0)\n",
            "Requirement already satisfied: frozenlist>=1.1.1 in /usr/local/lib/python3.11/dist-packages (from aiohttp->openai==0.28.0) (1.5.0)\n",
            "Requirement already satisfied: multidict<7.0,>=4.5 in /usr/local/lib/python3.11/dist-packages (from aiohttp->openai==0.28.0) (6.1.0)\n",
            "Requirement already satisfied: propcache>=0.2.0 in /usr/local/lib/python3.11/dist-packages (from aiohttp->openai==0.28.0) (0.2.1)\n",
            "Requirement already satisfied: yarl<2.0,>=1.17.0 in /usr/local/lib/python3.11/dist-packages (from aiohttp->openai==0.28.0) (1.18.3)\n"
          ]
        }
      ]
    },
    {
      "cell_type": "code",
      "source": [
        "import openai\n",
        "import json\n",
        "import re\n",
        "import os\n",
        "import time\n",
        "from tqdm import tqdm\n",
        "\n",
        "# ------------------------------------------------------------------\n",
        "# Use your provided API key:\n",
        "# ------------------------------------------------------------------\n",
        "openai.api_key = \"API KEY\"\n",
        "# ------------------------------------------------------------------\n",
        "\n",
        "def extract_json(json_string: str) -> str:\n",
        "    \"\"\"\n",
        "    Extract JSON from a string that may contain triple backticks.\n",
        "    If we find fenced code (```json ... ```), we remove it.\n",
        "    Otherwise, we return the original string stripped.\n",
        "    \"\"\"\n",
        "    pattern = r\"```(?:json)?(.*?)```\"\n",
        "    match = re.search(pattern, json_string, re.DOTALL)\n",
        "    if match:\n",
        "        return match.group(1).strip()\n",
        "    else:\n",
        "        return json_string.strip()\n",
        "\n",
        "def augment_queries_for_video(video_id, queries, max_retries=3, backoff=5):\n",
        "    \"\"\"\n",
        "    Sends all queries for one video in a single request.\n",
        "    Returns a list of augmented queries in the same order.\n",
        "    Retries up to 'max_retries' times if a RateLimitError or other OpenAIError occurs.\n",
        "    \"\"\"\n",
        "    # Build a single user message that includes all queries:\n",
        "    user_content = (\n",
        "        \"You will be given a list of sentences. \"\n",
        "        \"For each sentence, generate a significantly longer version, \"\n",
        "        \"while keeping the original meaning.\\n\\n\"\n",
        "        \"IMPORTANT: Return only valid JSON (no triple backticks) with the augmented sentences in a JSON array.\\n\\n\"\n",
        "        \"Here is the list of sentences:\\n\"\n",
        "    )\n",
        "    for i, q in enumerate(queries, start=1):\n",
        "        user_content += f\"{i}. {q}\\n\"\n",
        "\n",
        "    # Attempt up to max_retries\n",
        "    for attempt in range(max_retries):\n",
        "        try:\n",
        "            response = openai.ChatCompletion.create(\n",
        "                model=\"gpt-3.5-turbo\",\n",
        "                messages=[\n",
        "                    {\n",
        "                        \"role\": \"system\",\n",
        "                        \"content\": (\n",
        "                            \"You are a helpful assistant that processes multiple queries at once. \"\n",
        "                            \"You will receive a list of sentences and must return a JSON array of augmented sentences. \"\n",
        "                            \"Do not include triple backticks or any extra text—only return valid JSON.\"\n",
        "                        )\n",
        "                    },\n",
        "                    {\n",
        "                        \"role\": \"user\",\n",
        "                        \"content\": user_content\n",
        "                    }\n",
        "                ],\n",
        "                temperature=0.7\n",
        "            )\n",
        "\n",
        "            completion_text = response[\"choices\"][0][\"message\"][\"content\"]\n",
        "            cleaned_text = extract_json(completion_text)\n",
        "\n",
        "            # Attempt to parse as JSON\n",
        "            augmented_list = json.loads(cleaned_text)\n",
        "            if not isinstance(augmented_list, list):\n",
        "                raise ValueError(\"Response was not a JSON list.\")\n",
        "\n",
        "            return augmented_list\n",
        "\n",
        "        except openai.error.RateLimitError as e:\n",
        "            print(f\"[RateLimitError] {e}. Retrying in {backoff} seconds...\")\n",
        "            time.sleep(backoff)\n",
        "        except openai.error.OpenAIError as e:\n",
        "            print(f\"[OpenAIError] {e}. Retrying in {backoff} seconds...\")\n",
        "            time.sleep(backoff)\n",
        "        except (ValueError, json.JSONDecodeError) as e:\n",
        "            # If the JSON is invalid or we can't parse it at all, we won't retry infinitely\n",
        "            # We'll just raise the error so we can stop for this video.\n",
        "            raise ValueError(\n",
        "                f\"[JSONDecodeError] Could not parse model output for video '{video_id}'. Output was:\\n{completion_text}\"\n",
        "            ) from e\n",
        "        except Exception as e:\n",
        "            print(f\"[Unexpected Error] {e}\")\n",
        "            return None\n",
        "\n",
        "    # If all retries fail (e.g., repeated RateLimitError), return None\n",
        "    return None\n",
        "\n",
        "def augment_json_file(input_json_path, output_json_path):\n",
        "    \"\"\"\n",
        "    Reads an input JSON with format:\n",
        "        {\n",
        "            \"video_file_1\": [\"query1\", \"query2\", ...],\n",
        "            \"video_file_2\": [\"query1\", \"query2\", ...],\n",
        "            ...\n",
        "        }\n",
        "    For each video, it sends all queries at once to the API, expecting a JSON list in return.\n",
        "\n",
        "    Partial results are saved to output_json_path, so if an error occurs,\n",
        "    you won't lose progress on previously augmented videos.\n",
        "\n",
        "    Additionally, uses a tqdm progress bar to show how many videos remain.\n",
        "    \"\"\"\n",
        "    # Load the original data\n",
        "    with open(input_json_path, \"r\", encoding=\"utf-8\") as f:\n",
        "        original_data = json.load(f)\n",
        "\n",
        "    # If an output file already exists, load partial data\n",
        "    if os.path.exists(output_json_path):\n",
        "        with open(output_json_path, \"r\", encoding=\"utf-8\") as f:\n",
        "            augmented_data = json.load(f)\n",
        "    else:\n",
        "        augmented_data = {}\n",
        "\n",
        "    all_videos = list(original_data.keys())\n",
        "    total_videos = len(all_videos)\n",
        "\n",
        "    print(f\"Total number of videos to process: {total_videos}\")\n",
        "\n",
        "    # Use tqdm progress bar\n",
        "    with tqdm(total=total_videos, desc=\"Processing videos\") as pbar:\n",
        "        for video_id in all_videos:\n",
        "            # Check if this video is already done\n",
        "            if video_id in augmented_data:\n",
        "                pbar.update(1)\n",
        "                continue  # Skip to the next\n",
        "\n",
        "            print(f\"\\nNow augmenting queries for '{video_id}'\")\n",
        "            queries = original_data[video_id]\n",
        "\n",
        "            # Call the augmentation function\n",
        "            try:\n",
        "                augmented_queries = augment_queries_for_video(video_id, queries)\n",
        "            except ValueError as e:\n",
        "                # If JSON parsing error or invalid response, we stop here\n",
        "                # so the script eventually re-runs from the beginning.\n",
        "                print(e)\n",
        "                print(f\"Failed to augment queries for '{video_id}'. Saving partial data and stopping.\")\n",
        "                break\n",
        "\n",
        "            if augmented_queries is None:\n",
        "                # None means we tried max times and still got an error\n",
        "                print(f\"Failed to augment queries for '{video_id}' after multiple retries. Saving partial data and stopping.\")\n",
        "                break\n",
        "\n",
        "            # If we reach here, we have valid augmented queries\n",
        "            augmented_data[video_id] = augmented_queries\n",
        "\n",
        "            # Save partial results after each video\n",
        "            with open(output_json_path, \"w\", encoding=\"utf-8\") as f:\n",
        "                json.dump(augmented_data, f, ensure_ascii=False, indent=4)\n",
        "\n",
        "            # Update the progress bar\n",
        "            pbar.update(1)\n",
        "\n",
        "    print(\"\\nAugmentation process complete.\")\n",
        "    print(f\"Final augmented data saved to: {output_json_path}\")\n",
        "\n",
        "\n",
        "# ----------------------------------------------------------------------------\n",
        "# Example usage: the script re-runs itself if any error occurs\n",
        "# ----------------------------------------------------------------------------\n",
        "if __name__ == \"__main__\":\n",
        "    input_file_path = \"/content/MSRVTT_captions_test.json\"\n",
        "    output_file_path = \"/content/output_MSRVTT.json\"\n",
        "\n",
        "    while True:\n",
        "        try:\n",
        "            augment_json_file(input_file_path, output_file_path)\n",
        "            # If augment_json_file completes with no fatal error, break the loop\n",
        "            break\n",
        "        except Exception as e:\n",
        "            # If there's ANY error not caught inside augment_json_file,\n",
        "            # we simply print and re-run\n",
        "            print(f\"\\n[RE-RUN TRIGGER] An error occurred: {e}\")\n",
        "            print(\"Re-running the entire script...\\n\")\n",
        "            time.sleep(2)\n",
        "            continue\n"
      ],
      "metadata": {
        "colab": {
          "base_uri": "https://localhost:8080/"
        },
        "id": "N0zEbq_yzFdp",
        "outputId": "dddc1168-e88b-4321-9e15-132e2abdfdf5"
      },
      "execution_count": null,
      "outputs": [
        {
          "output_type": "stream",
          "name": "stdout",
          "text": [
            "Total number of videos to process: 1000\n"
          ]
        },
        {
          "output_type": "stream",
          "name": "stderr",
          "text": [
            "\rProcessing videos:   0%|          | 0/1000 [00:00<?, ?it/s]"
          ]
        },
        {
          "output_type": "stream",
          "name": "stdout",
          "text": [
            "\n",
            "Now augmenting queries for 'video9032'\n"
          ]
        },
        {
          "output_type": "stream",
          "name": "stderr",
          "text": [
            "\rProcessing videos:  79%|███████▉  | 788/1000 [00:12<00:03, 65.48it/s]"
          ]
        },
        {
          "output_type": "stream",
          "name": "stdout",
          "text": [
            "\n",
            "Now augmenting queries for 'video7169'\n",
            "\n",
            "Now augmenting queries for 'video9818'\n",
            "\n",
            "Now augmenting queries for 'video8089'\n"
          ]
        },
        {
          "output_type": "stream",
          "name": "stderr",
          "text": [
            "Processing videos:  79%|███████▉  | 791/1000 [00:29<00:09, 21.31it/s]"
          ]
        },
        {
          "output_type": "stream",
          "name": "stdout",
          "text": [
            "\n",
            "Now augmenting queries for 'video7501'\n"
          ]
        },
        {
          "output_type": "stream",
          "name": "stderr",
          "text": [
            "\rProcessing videos:  79%|███████▉  | 792/1000 [00:32<00:11, 18.14it/s]"
          ]
        },
        {
          "output_type": "stream",
          "name": "stdout",
          "text": [
            "\n",
            "Now augmenting queries for 'video8828'\n"
          ]
        },
        {
          "output_type": "stream",
          "name": "stderr",
          "text": [
            "\rProcessing videos:  79%|███████▉  | 793/1000 [00:38<00:15, 12.99it/s]"
          ]
        },
        {
          "output_type": "stream",
          "name": "stdout",
          "text": [
            "\n",
            "Now augmenting queries for 'video9871'\n"
          ]
        },
        {
          "output_type": "stream",
          "name": "stderr",
          "text": [
            "\rProcessing videos:  79%|███████▉  | 794/1000 [00:43<00:20,  9.82it/s]"
          ]
        },
        {
          "output_type": "stream",
          "name": "stdout",
          "text": [
            "\n",
            "Now augmenting queries for 'video8811'\n"
          ]
        },
        {
          "output_type": "stream",
          "name": "stderr",
          "text": [
            "\rProcessing videos:  80%|███████▉  | 795/1000 [00:48<00:28,  7.23it/s]"
          ]
        },
        {
          "output_type": "stream",
          "name": "stdout",
          "text": [
            "\n",
            "Now augmenting queries for 'video8311'\n"
          ]
        },
        {
          "output_type": "stream",
          "name": "stderr",
          "text": [
            "\rProcessing videos:  80%|███████▉  | 796/1000 [00:53<00:37,  5.51it/s]"
          ]
        },
        {
          "output_type": "stream",
          "name": "stdout",
          "text": [
            "\n",
            "Now augmenting queries for 'video9574'\n"
          ]
        },
        {
          "output_type": "stream",
          "name": "stderr",
          "text": [
            "\rProcessing videos:  80%|███████▉  | 797/1000 [00:58<00:53,  3.81it/s]"
          ]
        },
        {
          "output_type": "stream",
          "name": "stdout",
          "text": [
            "\n",
            "Now augmenting queries for 'video9512'\n"
          ]
        },
        {
          "output_type": "stream",
          "name": "stderr",
          "text": [
            "\rProcessing videos:  80%|███████▉  | 798/1000 [01:05<01:21,  2.48it/s]"
          ]
        },
        {
          "output_type": "stream",
          "name": "stdout",
          "text": [
            "\n",
            "Now augmenting queries for 'video7613'\n"
          ]
        },
        {
          "output_type": "stream",
          "name": "stderr",
          "text": [
            "\rProcessing videos:  80%|███████▉  | 799/1000 [01:10<01:44,  1.93it/s]"
          ]
        },
        {
          "output_type": "stream",
          "name": "stdout",
          "text": [
            "\n",
            "Now augmenting queries for 'video7822'\n"
          ]
        },
        {
          "output_type": "stream",
          "name": "stderr",
          "text": [
            "\rProcessing videos:  80%|████████  | 800/1000 [01:14<02:09,  1.54it/s]"
          ]
        },
        {
          "output_type": "stream",
          "name": "stdout",
          "text": [
            "\n",
            "Now augmenting queries for 'video7219'\n"
          ]
        },
        {
          "output_type": "stream",
          "name": "stderr",
          "text": [
            "\rProcessing videos:  80%|████████  | 801/1000 [01:20<03:11,  1.04it/s]"
          ]
        },
        {
          "output_type": "stream",
          "name": "stdout",
          "text": [
            "\n",
            "Now augmenting queries for 'video7967'\n"
          ]
        },
        {
          "output_type": "stream",
          "name": "stderr",
          "text": [
            "\rProcessing videos:  80%|████████  | 802/1000 [01:25<04:06,  1.25s/it]"
          ]
        },
        {
          "output_type": "stream",
          "name": "stdout",
          "text": [
            "\n",
            "Now augmenting queries for 'video7064'\n"
          ]
        },
        {
          "output_type": "stream",
          "name": "stderr",
          "text": [
            "\rProcessing videos:  80%|████████  | 803/1000 [01:33<06:04,  1.85s/it]"
          ]
        },
        {
          "output_type": "stream",
          "name": "stdout",
          "text": [
            "\n",
            "Now augmenting queries for 'video7699'\n"
          ]
        },
        {
          "output_type": "stream",
          "name": "stderr",
          "text": [
            "\rProcessing videos:  80%|████████  | 804/1000 [01:41<08:13,  2.52s/it]"
          ]
        },
        {
          "output_type": "stream",
          "name": "stdout",
          "text": [
            "\n",
            "Now augmenting queries for 'video7649'\n"
          ]
        },
        {
          "output_type": "stream",
          "name": "stderr",
          "text": [
            "\rProcessing videos:  80%|████████  | 805/1000 [01:46<09:12,  2.83s/it]"
          ]
        },
        {
          "output_type": "stream",
          "name": "stdout",
          "text": [
            "\n",
            "Now augmenting queries for 'video7614'\n"
          ]
        },
        {
          "output_type": "stream",
          "name": "stderr",
          "text": [
            "\rProcessing videos:  81%|████████  | 806/1000 [01:49<09:27,  2.92s/it]"
          ]
        },
        {
          "output_type": "stream",
          "name": "stdout",
          "text": [
            "\n",
            "Now augmenting queries for 'video8690'\n"
          ]
        },
        {
          "output_type": "stream",
          "name": "stderr",
          "text": [
            "\rProcessing videos:  81%|████████  | 807/1000 [01:54<10:59,  3.42s/it]"
          ]
        },
        {
          "output_type": "stream",
          "name": "stdout",
          "text": [
            "\n",
            "Now augmenting queries for 'video9821'\n"
          ]
        },
        {
          "output_type": "stream",
          "name": "stderr",
          "text": [
            "\rProcessing videos:  81%|████████  | 808/1000 [01:59<11:35,  3.62s/it]"
          ]
        },
        {
          "output_type": "stream",
          "name": "stdout",
          "text": [
            "\n",
            "Now augmenting queries for 'video7233'\n"
          ]
        },
        {
          "output_type": "stream",
          "name": "stderr",
          "text": [
            "\rProcessing videos:  81%|████████  | 809/1000 [02:03<11:45,  3.70s/it]"
          ]
        },
        {
          "output_type": "stream",
          "name": "stdout",
          "text": [
            "\n",
            "Now augmenting queries for 'video7590'\n"
          ]
        },
        {
          "output_type": "stream",
          "name": "stderr",
          "text": [
            "\rProcessing videos:  81%|████████  | 810/1000 [02:07<11:54,  3.76s/it]"
          ]
        },
        {
          "output_type": "stream",
          "name": "stdout",
          "text": [
            "\n",
            "Now augmenting queries for 'video8721'\n"
          ]
        },
        {
          "output_type": "stream",
          "name": "stderr",
          "text": [
            "\rProcessing videos:  81%|████████  | 811/1000 [02:10<11:37,  3.69s/it]"
          ]
        },
        {
          "output_type": "stream",
          "name": "stdout",
          "text": [
            "\n",
            "Now augmenting queries for 'video8804'\n"
          ]
        },
        {
          "output_type": "stream",
          "name": "stderr",
          "text": [
            "\rProcessing videos:  81%|████████  | 812/1000 [02:15<12:27,  3.98s/it]"
          ]
        },
        {
          "output_type": "stream",
          "name": "stdout",
          "text": [
            "\n",
            "Now augmenting queries for 'video9022'\n"
          ]
        },
        {
          "output_type": "stream",
          "name": "stderr",
          "text": [
            "\rProcessing videos:  81%|████████▏ | 813/1000 [02:20<13:25,  4.31s/it]"
          ]
        },
        {
          "output_type": "stream",
          "name": "stdout",
          "text": [
            "\n",
            "Now augmenting queries for 'video8423'\n"
          ]
        },
        {
          "output_type": "stream",
          "name": "stderr",
          "text": [
            "\rProcessing videos:  81%|████████▏ | 814/1000 [02:27<15:50,  5.11s/it]"
          ]
        },
        {
          "output_type": "stream",
          "name": "stdout",
          "text": [
            "\n",
            "Now augmenting queries for 'video8835'\n"
          ]
        },
        {
          "output_type": "stream",
          "name": "stderr",
          "text": [
            "\rProcessing videos:  82%|████████▏ | 815/1000 [02:31<14:18,  4.64s/it]"
          ]
        },
        {
          "output_type": "stream",
          "name": "stdout",
          "text": [
            "\n",
            "Now augmenting queries for 'video7418'\n"
          ]
        },
        {
          "output_type": "stream",
          "name": "stderr",
          "text": [
            "\rProcessing videos:  82%|████████▏ | 816/1000 [02:34<13:20,  4.35s/it]"
          ]
        },
        {
          "output_type": "stream",
          "name": "stdout",
          "text": [
            "\n",
            "Now augmenting queries for 'video8327'\n"
          ]
        },
        {
          "output_type": "stream",
          "name": "stderr",
          "text": [
            "\rProcessing videos:  82%|████████▏ | 817/1000 [02:39<13:24,  4.39s/it]"
          ]
        },
        {
          "output_type": "stream",
          "name": "stdout",
          "text": [
            "\n",
            "Now augmenting queries for 'video9731'\n"
          ]
        },
        {
          "output_type": "stream",
          "name": "stderr",
          "text": [
            "\rProcessing videos:  82%|████████▏ | 818/1000 [02:43<13:06,  4.32s/it]"
          ]
        },
        {
          "output_type": "stream",
          "name": "stdout",
          "text": [
            "\n",
            "Now augmenting queries for 'video7573'\n"
          ]
        },
        {
          "output_type": "stream",
          "name": "stderr",
          "text": [
            "\rProcessing videos:  82%|████████▏ | 819/1000 [02:48<13:34,  4.50s/it]"
          ]
        },
        {
          "output_type": "stream",
          "name": "stdout",
          "text": [
            "\n",
            "Now augmenting queries for 'video9253'\n"
          ]
        },
        {
          "output_type": "stream",
          "name": "stderr",
          "text": [
            "\rProcessing videos:  82%|████████▏ | 820/1000 [02:53<14:18,  4.77s/it]"
          ]
        },
        {
          "output_type": "stream",
          "name": "stdout",
          "text": [
            "\n",
            "Now augmenting queries for 'video9693'\n"
          ]
        },
        {
          "output_type": "stream",
          "name": "stderr",
          "text": [
            "\rProcessing videos:  82%|████████▏ | 821/1000 [02:57<13:06,  4.39s/it]"
          ]
        },
        {
          "output_type": "stream",
          "name": "stdout",
          "text": [
            "\n",
            "Now augmenting queries for 'video8837'\n"
          ]
        },
        {
          "output_type": "stream",
          "name": "stderr",
          "text": [
            "\rProcessing videos:  82%|████████▏ | 822/1000 [03:03<14:47,  4.99s/it]"
          ]
        },
        {
          "output_type": "stream",
          "name": "stdout",
          "text": [
            "\n",
            "Now augmenting queries for 'video9489'\n"
          ]
        },
        {
          "output_type": "stream",
          "name": "stderr",
          "text": [
            "\rProcessing videos:  82%|████████▏ | 823/1000 [03:07<13:36,  4.61s/it]"
          ]
        },
        {
          "output_type": "stream",
          "name": "stdout",
          "text": [
            "\n",
            "Now augmenting queries for 'video8444'\n"
          ]
        },
        {
          "output_type": "stream",
          "name": "stderr",
          "text": [
            "\rProcessing videos:  82%|████████▏ | 824/1000 [03:13<14:30,  4.94s/it]"
          ]
        },
        {
          "output_type": "stream",
          "name": "stdout",
          "text": [
            "\n",
            "Now augmenting queries for 'video9677'\n"
          ]
        },
        {
          "output_type": "stream",
          "name": "stderr",
          "text": [
            "\rProcessing videos:  82%|████████▎ | 825/1000 [03:17<14:18,  4.90s/it]"
          ]
        },
        {
          "output_type": "stream",
          "name": "stdout",
          "text": [
            "\n",
            "Now augmenting queries for 'video8863'\n"
          ]
        },
        {
          "output_type": "stream",
          "name": "stderr",
          "text": [
            "\rProcessing videos:  83%|████████▎ | 826/1000 [03:22<14:14,  4.91s/it]"
          ]
        },
        {
          "output_type": "stream",
          "name": "stdout",
          "text": [
            "\n",
            "Now augmenting queries for 'video9347'\n"
          ]
        },
        {
          "output_type": "stream",
          "name": "stderr",
          "text": [
            "\rProcessing videos:  83%|████████▎ | 827/1000 [03:27<14:02,  4.87s/it]"
          ]
        },
        {
          "output_type": "stream",
          "name": "stdout",
          "text": [
            "\n",
            "Now augmenting queries for 'video7549'\n"
          ]
        },
        {
          "output_type": "stream",
          "name": "stderr",
          "text": [
            "\rProcessing videos:  83%|████████▎ | 828/1000 [03:32<14:07,  4.93s/it]"
          ]
        },
        {
          "output_type": "stream",
          "name": "stdout",
          "text": [
            "\n",
            "Now augmenting queries for 'video9353'\n"
          ]
        },
        {
          "output_type": "stream",
          "name": "stderr",
          "text": [
            "\rProcessing videos:  83%|████████▎ | 829/1000 [03:36<12:41,  4.45s/it]"
          ]
        },
        {
          "output_type": "stream",
          "name": "stdout",
          "text": [
            "\n",
            "Now augmenting queries for 'video7849'\n"
          ]
        },
        {
          "output_type": "stream",
          "name": "stderr",
          "text": [
            "\rProcessing videos:  83%|████████▎ | 830/1000 [03:40<12:56,  4.57s/it]"
          ]
        },
        {
          "output_type": "stream",
          "name": "stdout",
          "text": [
            "\n",
            "Now augmenting queries for 'video9368'\n"
          ]
        },
        {
          "output_type": "stream",
          "name": "stderr",
          "text": [
            "\rProcessing videos:  83%|████████▎ | 831/1000 [03:45<13:04,  4.64s/it]"
          ]
        },
        {
          "output_type": "stream",
          "name": "stdout",
          "text": [
            "\n",
            "Now augmenting queries for 'video7828'\n"
          ]
        },
        {
          "output_type": "stream",
          "name": "stderr",
          "text": [
            "\rProcessing videos:  83%|████████▎ | 832/1000 [03:51<13:38,  4.87s/it]"
          ]
        },
        {
          "output_type": "stream",
          "name": "stdout",
          "text": [
            "\n",
            "Now augmenting queries for 'video8450'\n"
          ]
        },
        {
          "output_type": "stream",
          "name": "stderr",
          "text": [
            "\rProcessing videos:  83%|████████▎ | 833/1000 [03:56<14:08,  5.08s/it]"
          ]
        },
        {
          "output_type": "stream",
          "name": "stdout",
          "text": [
            "\n",
            "Now augmenting queries for 'video7342'\n"
          ]
        },
        {
          "output_type": "stream",
          "name": "stderr",
          "text": [
            "\rProcessing videos:  83%|████████▎ | 834/1000 [04:03<15:17,  5.53s/it]"
          ]
        },
        {
          "output_type": "stream",
          "name": "stdout",
          "text": [
            "\n",
            "Now augmenting queries for 'video7135'\n"
          ]
        },
        {
          "output_type": "stream",
          "name": "stderr",
          "text": [
            "\rProcessing videos:  84%|████████▎ | 835/1000 [04:07<14:18,  5.20s/it]"
          ]
        },
        {
          "output_type": "stream",
          "name": "stdout",
          "text": [
            "\n",
            "Now augmenting queries for 'video9806'\n"
          ]
        },
        {
          "output_type": "stream",
          "name": "stderr",
          "text": [
            "\rProcessing videos:  84%|████████▎ | 836/1000 [04:14<15:10,  5.55s/it]"
          ]
        },
        {
          "output_type": "stream",
          "name": "stdout",
          "text": [
            "\n",
            "Now augmenting queries for 'video8261'\n"
          ]
        },
        {
          "output_type": "stream",
          "name": "stderr",
          "text": [
            "\rProcessing videos:  84%|████████▎ | 837/1000 [04:18<14:25,  5.31s/it]"
          ]
        },
        {
          "output_type": "stream",
          "name": "stdout",
          "text": [
            "\n",
            "Now augmenting queries for 'video7844'\n"
          ]
        },
        {
          "output_type": "stream",
          "name": "stderr",
          "text": [
            "\rProcessing videos:  84%|████████▍ | 838/1000 [04:26<16:18,  6.04s/it]"
          ]
        },
        {
          "output_type": "stream",
          "name": "stdout",
          "text": [
            "\n",
            "Now augmenting queries for 'video8022'\n"
          ]
        },
        {
          "output_type": "stream",
          "name": "stderr",
          "text": [
            "\rProcessing videos:  84%|████████▍ | 839/1000 [04:29<14:05,  5.25s/it]"
          ]
        },
        {
          "output_type": "stream",
          "name": "stdout",
          "text": [
            "\n",
            "Now augmenting queries for 'video8664'\n"
          ]
        },
        {
          "output_type": "stream",
          "name": "stderr",
          "text": [
            "\rProcessing videos:  84%|████████▍ | 840/1000 [04:34<13:28,  5.05s/it]"
          ]
        },
        {
          "output_type": "stream",
          "name": "stdout",
          "text": [
            "\n",
            "Now augmenting queries for 'video7174'\n"
          ]
        },
        {
          "output_type": "stream",
          "name": "stderr",
          "text": [
            "\rProcessing videos:  84%|████████▍ | 841/1000 [04:40<13:51,  5.23s/it]"
          ]
        },
        {
          "output_type": "stream",
          "name": "stdout",
          "text": [
            "\n",
            "Now augmenting queries for 'video9689'\n"
          ]
        },
        {
          "output_type": "stream",
          "name": "stderr",
          "text": [
            "\rProcessing videos:  84%|████████▍ | 842/1000 [04:43<12:17,  4.67s/it]"
          ]
        },
        {
          "output_type": "stream",
          "name": "stdout",
          "text": [
            "\n",
            "Now augmenting queries for 'video7413'\n"
          ]
        },
        {
          "output_type": "stream",
          "name": "stderr",
          "text": [
            "\rProcessing videos:  84%|████████▍ | 843/1000 [04:46<11:05,  4.24s/it]"
          ]
        },
        {
          "output_type": "stream",
          "name": "stdout",
          "text": [
            "\n",
            "Now augmenting queries for 'video7412'\n"
          ]
        },
        {
          "output_type": "stream",
          "name": "stderr",
          "text": [
            "\rProcessing videos:  84%|████████▍ | 844/1000 [04:50<10:59,  4.23s/it]"
          ]
        },
        {
          "output_type": "stream",
          "name": "stdout",
          "text": [
            "\n",
            "Now augmenting queries for 'video7035'\n"
          ]
        },
        {
          "output_type": "stream",
          "name": "stderr",
          "text": [
            "\rProcessing videos:  84%|████████▍ | 845/1000 [04:56<12:10,  4.71s/it]"
          ]
        },
        {
          "output_type": "stream",
          "name": "stdout",
          "text": [
            "\n",
            "Now augmenting queries for 'video7939'\n"
          ]
        },
        {
          "output_type": "stream",
          "name": "stderr",
          "text": [
            "\rProcessing videos:  85%|████████▍ | 846/1000 [05:00<11:26,  4.46s/it]"
          ]
        },
        {
          "output_type": "stream",
          "name": "stdout",
          "text": [
            "\n",
            "Now augmenting queries for 'video8783'\n"
          ]
        },
        {
          "output_type": "stream",
          "name": "stderr",
          "text": [
            "\rProcessing videos:  85%|████████▍ | 847/1000 [05:09<14:51,  5.83s/it]"
          ]
        },
        {
          "output_type": "stream",
          "name": "stdout",
          "text": [
            "\n",
            "Now augmenting queries for 'video9403'\n"
          ]
        },
        {
          "output_type": "stream",
          "name": "stderr",
          "text": [
            "\rProcessing videos:  85%|████████▍ | 848/1000 [05:13<13:19,  5.26s/it]"
          ]
        },
        {
          "output_type": "stream",
          "name": "stdout",
          "text": [
            "\n",
            "Now augmenting queries for 'video9839'\n"
          ]
        },
        {
          "output_type": "stream",
          "name": "stderr",
          "text": [
            "\rProcessing videos:  85%|████████▍ | 849/1000 [05:19<13:44,  5.46s/it]"
          ]
        },
        {
          "output_type": "stream",
          "name": "stdout",
          "text": [
            "\n",
            "Now augmenting queries for 'video9131'\n"
          ]
        },
        {
          "output_type": "stream",
          "name": "stderr",
          "text": [
            "\rProcessing videos:  85%|████████▌ | 850/1000 [05:23<12:20,  4.94s/it]"
          ]
        },
        {
          "output_type": "stream",
          "name": "stdout",
          "text": [
            "\n",
            "Now augmenting queries for 'video9207'\n"
          ]
        },
        {
          "output_type": "stream",
          "name": "stderr",
          "text": [
            "\rProcessing videos:  85%|████████▌ | 851/1000 [05:27<11:59,  4.83s/it]"
          ]
        },
        {
          "output_type": "stream",
          "name": "stdout",
          "text": [
            "\n",
            "Now augmenting queries for 'video8240'\n"
          ]
        },
        {
          "output_type": "stream",
          "name": "stderr",
          "text": [
            "\rProcessing videos:  85%|████████▌ | 852/1000 [05:33<12:24,  5.03s/it]"
          ]
        },
        {
          "output_type": "stream",
          "name": "stdout",
          "text": [
            "\n",
            "Now augmenting queries for 'video8175'\n"
          ]
        },
        {
          "output_type": "stream",
          "name": "stderr",
          "text": [
            "\rProcessing videos:  85%|████████▌ | 853/1000 [05:38<12:36,  5.15s/it]"
          ]
        },
        {
          "output_type": "stream",
          "name": "stdout",
          "text": [
            "\n",
            "Now augmenting queries for 'video7360'\n"
          ]
        },
        {
          "output_type": "stream",
          "name": "stderr",
          "text": [
            "\rProcessing videos:  85%|████████▌ | 854/1000 [05:42<11:37,  4.78s/it]"
          ]
        },
        {
          "output_type": "stream",
          "name": "stdout",
          "text": [
            "\n",
            "Now augmenting queries for 'video8322'\n"
          ]
        },
        {
          "output_type": "stream",
          "name": "stderr",
          "text": [
            "\rProcessing videos:  86%|████████▌ | 855/1000 [05:47<11:26,  4.73s/it]"
          ]
        },
        {
          "output_type": "stream",
          "name": "stdout",
          "text": [
            "\n",
            "Now augmenting queries for 'video9015'\n"
          ]
        },
        {
          "output_type": "stream",
          "name": "stderr",
          "text": [
            "\rProcessing videos:  86%|████████▌ | 856/1000 [05:51<10:39,  4.44s/it]"
          ]
        },
        {
          "output_type": "stream",
          "name": "stdout",
          "text": [
            "\n",
            "Now augmenting queries for 'video8948'\n"
          ]
        },
        {
          "output_type": "stream",
          "name": "stderr",
          "text": [
            "\rProcessing videos:  86%|████████▌ | 857/1000 [05:54<09:54,  4.16s/it]"
          ]
        },
        {
          "output_type": "stream",
          "name": "stdout",
          "text": [
            "\n",
            "Now augmenting queries for 'video8073'\n"
          ]
        },
        {
          "output_type": "stream",
          "name": "stderr",
          "text": [
            "\rProcessing videos:  86%|████████▌ | 858/1000 [05:59<10:25,  4.40s/it]"
          ]
        },
        {
          "output_type": "stream",
          "name": "stdout",
          "text": [
            "\n",
            "Now augmenting queries for 'video7214'\n"
          ]
        },
        {
          "output_type": "stream",
          "name": "stderr",
          "text": [
            "\rProcessing videos:  86%|████████▌ | 859/1000 [06:05<11:18,  4.81s/it]"
          ]
        },
        {
          "output_type": "stream",
          "name": "stdout",
          "text": [
            "\n",
            "Now augmenting queries for 'video8498'\n"
          ]
        },
        {
          "output_type": "stream",
          "name": "stderr",
          "text": [
            "\rProcessing videos:  86%|████████▌ | 860/1000 [06:11<12:19,  5.28s/it]"
          ]
        },
        {
          "output_type": "stream",
          "name": "stdout",
          "text": [
            "\n",
            "Now augmenting queries for 'video7793'\n"
          ]
        },
        {
          "output_type": "stream",
          "name": "stderr",
          "text": [
            "\rProcessing videos:  86%|████████▌ | 861/1000 [06:16<11:34,  5.00s/it]"
          ]
        },
        {
          "output_type": "stream",
          "name": "stdout",
          "text": [
            "\n",
            "Now augmenting queries for 'video9882'\n"
          ]
        },
        {
          "output_type": "stream",
          "name": "stderr",
          "text": [
            "\rProcessing videos:  86%|████████▌ | 862/1000 [06:19<10:26,  4.54s/it]"
          ]
        },
        {
          "output_type": "stream",
          "name": "stdout",
          "text": [
            "\n",
            "Now augmenting queries for 'video9830'\n"
          ]
        },
        {
          "output_type": "stream",
          "name": "stderr",
          "text": [
            "\rProcessing videos:  86%|████████▋ | 863/1000 [06:25<11:04,  4.85s/it]"
          ]
        },
        {
          "output_type": "stream",
          "name": "stdout",
          "text": [
            "\n",
            "Now augmenting queries for 'video8851'\n"
          ]
        },
        {
          "output_type": "stream",
          "name": "stderr",
          "text": [
            "\rProcessing videos:  86%|████████▋ | 864/1000 [06:31<11:48,  5.21s/it]"
          ]
        },
        {
          "output_type": "stream",
          "name": "stdout",
          "text": [
            "\n",
            "Now augmenting queries for 'video8348'\n"
          ]
        },
        {
          "output_type": "stream",
          "name": "stderr",
          "text": [
            "\rProcessing videos:  86%|████████▋ | 865/1000 [06:35<11:07,  4.94s/it]"
          ]
        },
        {
          "output_type": "stream",
          "name": "stdout",
          "text": [
            "\n",
            "Now augmenting queries for 'video8489'\n"
          ]
        },
        {
          "output_type": "stream",
          "name": "stderr",
          "text": [
            "\rProcessing videos:  87%|████████▋ | 866/1000 [06:39<10:07,  4.54s/it]"
          ]
        },
        {
          "output_type": "stream",
          "name": "stdout",
          "text": [
            "\n",
            "Now augmenting queries for 'video9834'\n"
          ]
        },
        {
          "output_type": "stream",
          "name": "stderr",
          "text": [
            "\rProcessing videos:  87%|████████▋ | 867/1000 [06:43<10:06,  4.56s/it]"
          ]
        },
        {
          "output_type": "stream",
          "name": "stdout",
          "text": [
            "\n",
            "Now augmenting queries for 'video8320'\n"
          ]
        },
        {
          "output_type": "stream",
          "name": "stderr",
          "text": [
            "\rProcessing videos:  87%|████████▋ | 868/1000 [06:48<10:16,  4.67s/it]"
          ]
        },
        {
          "output_type": "stream",
          "name": "stdout",
          "text": [
            "\n",
            "Now augmenting queries for 'video8670'\n"
          ]
        },
        {
          "output_type": "stream",
          "name": "stderr",
          "text": [
            "\rProcessing videos:  87%|████████▋ | 869/1000 [06:52<09:47,  4.48s/it]"
          ]
        },
        {
          "output_type": "stream",
          "name": "stdout",
          "text": [
            "\n",
            "Now augmenting queries for 'video9010'\n"
          ]
        },
        {
          "output_type": "stream",
          "name": "stderr",
          "text": [
            "\rProcessing videos:  87%|████████▋ | 870/1000 [06:58<10:54,  5.03s/it]"
          ]
        },
        {
          "output_type": "stream",
          "name": "stdout",
          "text": [
            "\n",
            "Now augmenting queries for 'video7898'\n"
          ]
        },
        {
          "output_type": "stream",
          "name": "stderr",
          "text": [
            "\rProcessing videos:  87%|████████▋ | 871/1000 [07:03<10:34,  4.91s/it]"
          ]
        },
        {
          "output_type": "stream",
          "name": "stdout",
          "text": [
            "\n",
            "Now augmenting queries for 'video7027'\n"
          ]
        },
        {
          "output_type": "stream",
          "name": "stderr",
          "text": [
            "\rProcessing videos:  87%|████████▋ | 872/1000 [07:06<09:30,  4.46s/it]"
          ]
        },
        {
          "output_type": "stream",
          "name": "stdout",
          "text": [
            "\n",
            "Now augmenting queries for 'video7237'\n"
          ]
        },
        {
          "output_type": "stream",
          "name": "stderr",
          "text": [
            "\rProcessing videos:  87%|████████▋ | 873/1000 [07:10<09:04,  4.29s/it]"
          ]
        },
        {
          "output_type": "stream",
          "name": "stdout",
          "text": [
            "\n",
            "Now augmenting queries for 'video9509'\n"
          ]
        },
        {
          "output_type": "stream",
          "name": "stderr",
          "text": [
            "\rProcessing videos:  87%|████████▋ | 874/1000 [07:14<08:25,  4.01s/it]"
          ]
        },
        {
          "output_type": "stream",
          "name": "stdout",
          "text": [
            "\n",
            "Now augmenting queries for 'video8931'\n"
          ]
        },
        {
          "output_type": "stream",
          "name": "stderr",
          "text": [
            "\rProcessing videos:  88%|████████▊ | 875/1000 [07:19<08:54,  4.27s/it]"
          ]
        },
        {
          "output_type": "stream",
          "name": "stdout",
          "text": [
            "\n",
            "Now augmenting queries for 'video7568'\n"
          ]
        },
        {
          "output_type": "stream",
          "name": "stderr",
          "text": [
            "\rProcessing videos:  88%|████████▊ | 876/1000 [07:24<09:13,  4.46s/it]"
          ]
        },
        {
          "output_type": "stream",
          "name": "stdout",
          "text": [
            "\n",
            "Now augmenting queries for 'video8831'\n"
          ]
        },
        {
          "output_type": "stream",
          "name": "stderr",
          "text": [
            "\rProcessing videos:  88%|████████▊ | 877/1000 [07:27<08:38,  4.21s/it]"
          ]
        },
        {
          "output_type": "stream",
          "name": "stdout",
          "text": [
            "\n",
            "Now augmenting queries for 'video8254'\n"
          ]
        },
        {
          "output_type": "stream",
          "name": "stderr",
          "text": [
            "\rProcessing videos:  88%|████████▊ | 878/1000 [07:31<08:06,  3.99s/it]"
          ]
        },
        {
          "output_type": "stream",
          "name": "stdout",
          "text": [
            "\n",
            "Now augmenting queries for 'video8789'\n"
          ]
        },
        {
          "output_type": "stream",
          "name": "stderr",
          "text": [
            "\rProcessing videos:  88%|████████▊ | 879/1000 [07:35<08:04,  4.00s/it]"
          ]
        },
        {
          "output_type": "stream",
          "name": "stdout",
          "text": [
            "\n",
            "Now augmenting queries for 'video9223'\n"
          ]
        },
        {
          "output_type": "stream",
          "name": "stderr",
          "text": [
            "\rProcessing videos:  88%|████████▊ | 880/1000 [07:43<10:54,  5.45s/it]"
          ]
        },
        {
          "output_type": "stream",
          "name": "stdout",
          "text": [
            "\n",
            "Now augmenting queries for 'video9520'\n"
          ]
        },
        {
          "output_type": "stream",
          "name": "stderr",
          "text": [
            "\rProcessing videos:  88%|████████▊ | 881/1000 [07:49<11:03,  5.57s/it]"
          ]
        },
        {
          "output_type": "stream",
          "name": "stdout",
          "text": [
            "\n",
            "Now augmenting queries for 'video9205'\n"
          ]
        },
        {
          "output_type": "stream",
          "name": "stderr",
          "text": [
            "\rProcessing videos:  88%|████████▊ | 882/1000 [07:55<11:00,  5.60s/it]"
          ]
        },
        {
          "output_type": "stream",
          "name": "stdout",
          "text": [
            "\n",
            "Now augmenting queries for 'video8335'\n"
          ]
        },
        {
          "output_type": "stream",
          "name": "stderr",
          "text": [
            "\rProcessing videos:  88%|████████▊ | 883/1000 [08:00<10:28,  5.37s/it]"
          ]
        },
        {
          "output_type": "stream",
          "name": "stdout",
          "text": [
            "\n",
            "Now augmenting queries for 'video7577'\n"
          ]
        },
        {
          "output_type": "stream",
          "name": "stderr",
          "text": [
            "\rProcessing videos:  88%|████████▊ | 884/1000 [08:06<10:33,  5.46s/it]"
          ]
        },
        {
          "output_type": "stream",
          "name": "stdout",
          "text": [
            "\n",
            "Now augmenting queries for 'video7142'\n"
          ]
        },
        {
          "output_type": "stream",
          "name": "stderr",
          "text": [
            "\rProcessing videos:  88%|████████▊ | 885/1000 [08:10<10:00,  5.22s/it]"
          ]
        },
        {
          "output_type": "stream",
          "name": "stdout",
          "text": [
            "\n",
            "Now augmenting queries for 'video9337'\n"
          ]
        },
        {
          "output_type": "stream",
          "name": "stderr",
          "text": [
            "\rProcessing videos:  89%|████████▊ | 886/1000 [08:15<09:57,  5.24s/it]"
          ]
        },
        {
          "output_type": "stream",
          "name": "stdout",
          "text": [
            "\n",
            "Now augmenting queries for 'video7061'\n"
          ]
        },
        {
          "output_type": "stream",
          "name": "stderr",
          "text": [
            "\rProcessing videos:  89%|████████▊ | 887/1000 [08:25<12:27,  6.62s/it]"
          ]
        },
        {
          "output_type": "stream",
          "name": "stdout",
          "text": [
            "\n",
            "Now augmenting queries for 'video7152'\n"
          ]
        },
        {
          "output_type": "stream",
          "name": "stderr",
          "text": [
            "\rProcessing videos:  89%|████████▉ | 888/1000 [08:32<12:36,  6.76s/it]"
          ]
        },
        {
          "output_type": "stream",
          "name": "stdout",
          "text": [
            "\n",
            "Now augmenting queries for 'video8801'\n"
          ]
        },
        {
          "output_type": "stream",
          "name": "stderr",
          "text": [
            "\rProcessing videos:  89%|████████▉ | 889/1000 [08:38<11:38,  6.29s/it]"
          ]
        },
        {
          "output_type": "stream",
          "name": "stdout",
          "text": [
            "\n",
            "Now augmenting queries for 'video9735'\n"
          ]
        },
        {
          "output_type": "stream",
          "name": "stderr",
          "text": [
            "\rProcessing videos:  89%|████████▉ | 890/1000 [08:41<10:02,  5.48s/it]"
          ]
        },
        {
          "output_type": "stream",
          "name": "stdout",
          "text": [
            "\n",
            "Now augmenting queries for 'video8572'\n"
          ]
        },
        {
          "output_type": "stream",
          "name": "stderr",
          "text": [
            "\rProcessing videos:  89%|████████▉ | 891/1000 [08:45<09:02,  4.98s/it]"
          ]
        },
        {
          "output_type": "stream",
          "name": "stdout",
          "text": [
            "\n",
            "Now augmenting queries for 'video7034'\n"
          ]
        },
        {
          "output_type": "stream",
          "name": "stderr",
          "text": [
            "\rProcessing videos:  89%|████████▉ | 892/1000 [08:48<08:04,  4.48s/it]"
          ]
        },
        {
          "output_type": "stream",
          "name": "stdout",
          "text": [
            "\n",
            "Now augmenting queries for 'video7579'\n"
          ]
        },
        {
          "output_type": "stream",
          "name": "stderr",
          "text": [
            "\rProcessing videos:  89%|████████▉ | 893/1000 [08:53<07:54,  4.43s/it]"
          ]
        },
        {
          "output_type": "stream",
          "name": "stdout",
          "text": [
            "\n",
            "Now augmenting queries for 'video7562'\n"
          ]
        },
        {
          "output_type": "stream",
          "name": "stderr",
          "text": [
            "\rProcessing videos:  89%|████████▉ | 894/1000 [08:57<07:42,  4.36s/it]"
          ]
        },
        {
          "output_type": "stream",
          "name": "stdout",
          "text": [
            "\n",
            "Now augmenting queries for 'video9825'\n"
          ]
        },
        {
          "output_type": "stream",
          "name": "stderr",
          "text": [
            "\rProcessing videos:  90%|████████▉ | 895/1000 [09:03<08:21,  4.78s/it]"
          ]
        },
        {
          "output_type": "stream",
          "name": "stdout",
          "text": [
            "\n",
            "Now augmenting queries for 'video9835'\n"
          ]
        },
        {
          "output_type": "stream",
          "name": "stderr",
          "text": [
            "\rProcessing videos:  90%|████████▉ | 896/1000 [09:05<07:18,  4.22s/it]"
          ]
        },
        {
          "output_type": "stream",
          "name": "stdout",
          "text": [
            "\n",
            "Now augmenting queries for 'video8342'\n"
          ]
        },
        {
          "output_type": "stream",
          "name": "stderr",
          "text": [
            "\rProcessing videos:  90%|████████▉ | 897/1000 [09:10<07:27,  4.34s/it]"
          ]
        },
        {
          "output_type": "stream",
          "name": "stdout",
          "text": [
            "\n",
            "Now augmenting queries for 'video8618'\n"
          ]
        },
        {
          "output_type": "stream",
          "name": "stderr",
          "text": [
            "\rProcessing videos:  90%|████████▉ | 898/1000 [09:20<10:03,  5.91s/it]"
          ]
        },
        {
          "output_type": "stream",
          "name": "stdout",
          "text": [
            "\n",
            "Now augmenting queries for 'video7131'\n"
          ]
        },
        {
          "output_type": "stream",
          "name": "stderr",
          "text": [
            "\rProcessing videos:  90%|████████▉ | 899/1000 [09:24<09:13,  5.48s/it]"
          ]
        },
        {
          "output_type": "stream",
          "name": "stdout",
          "text": [
            "\n",
            "Now augmenting queries for 'video7024'\n"
          ]
        },
        {
          "output_type": "stream",
          "name": "stderr",
          "text": [
            "\rProcessing videos:  90%|█████████ | 900/1000 [09:28<08:28,  5.08s/it]"
          ]
        },
        {
          "output_type": "stream",
          "name": "stdout",
          "text": [
            "\n",
            "Now augmenting queries for 'video8677'\n"
          ]
        },
        {
          "output_type": "stream",
          "name": "stderr",
          "text": [
            "\rProcessing videos:  90%|█████████ | 901/1000 [09:33<08:00,  4.85s/it]"
          ]
        },
        {
          "output_type": "stream",
          "name": "stdout",
          "text": [
            "\n",
            "Now augmenting queries for 'video7542'\n"
          ]
        },
        {
          "output_type": "stream",
          "name": "stderr",
          "text": [
            "\rProcessing videos:  90%|█████████ | 902/1000 [09:38<08:18,  5.08s/it]"
          ]
        },
        {
          "output_type": "stream",
          "name": "stdout",
          "text": [
            "\n",
            "Now augmenting queries for 'video7206'\n"
          ]
        },
        {
          "output_type": "stream",
          "name": "stderr",
          "text": [
            "\rProcessing videos:  90%|█████████ | 903/1000 [09:45<08:52,  5.49s/it]"
          ]
        },
        {
          "output_type": "stream",
          "name": "stdout",
          "text": [
            "\n",
            "Now augmenting queries for 'video7154'\n"
          ]
        },
        {
          "output_type": "stream",
          "name": "stderr",
          "text": [
            "\rProcessing videos:  90%|█████████ | 904/1000 [09:50<08:38,  5.40s/it]"
          ]
        },
        {
          "output_type": "stream",
          "name": "stdout",
          "text": [
            "\n",
            "Now augmenting queries for 'video7119'\n"
          ]
        },
        {
          "output_type": "stream",
          "name": "stderr",
          "text": [
            "\rProcessing videos:  90%|█████████ | 905/1000 [09:55<08:16,  5.23s/it]"
          ]
        },
        {
          "output_type": "stream",
          "name": "stdout",
          "text": [
            "\n",
            "Now augmenting queries for 'video8935'\n"
          ]
        },
        {
          "output_type": "stream",
          "name": "stderr",
          "text": [
            "\rProcessing videos:  91%|█████████ | 906/1000 [09:59<07:49,  4.99s/it]"
          ]
        },
        {
          "output_type": "stream",
          "name": "stdout",
          "text": [
            "\n",
            "Now augmenting queries for 'video9576'\n"
          ]
        },
        {
          "output_type": "stream",
          "name": "stderr",
          "text": [
            "\rProcessing videos:  91%|█████████ | 907/1000 [10:07<09:15,  5.97s/it]"
          ]
        },
        {
          "output_type": "stream",
          "name": "stdout",
          "text": [
            "\n",
            "Now augmenting queries for 'video9240'\n"
          ]
        },
        {
          "output_type": "stream",
          "name": "stderr",
          "text": [
            "\rProcessing videos:  91%|█████████ | 908/1000 [10:12<08:31,  5.56s/it]"
          ]
        },
        {
          "output_type": "stream",
          "name": "stdout",
          "text": [
            "\n",
            "Now augmenting queries for 'video8906'\n"
          ]
        },
        {
          "output_type": "stream",
          "name": "stderr",
          "text": [
            "\rProcessing videos:  91%|█████████ | 909/1000 [10:15<07:27,  4.92s/it]"
          ]
        },
        {
          "output_type": "stream",
          "name": "stdout",
          "text": [
            "\n",
            "Now augmenting queries for 'video8477'\n"
          ]
        },
        {
          "output_type": "stream",
          "name": "stderr",
          "text": [
            "\rProcessing videos:  91%|█████████ | 910/1000 [10:19<06:48,  4.54s/it]"
          ]
        },
        {
          "output_type": "stream",
          "name": "stdout",
          "text": [
            "\n",
            "Now augmenting queries for 'video7150'\n"
          ]
        },
        {
          "output_type": "stream",
          "name": "stderr",
          "text": [
            "\rProcessing videos:  91%|█████████ | 911/1000 [10:24<07:04,  4.76s/it]"
          ]
        },
        {
          "output_type": "stream",
          "name": "stdout",
          "text": [
            "\n",
            "Now augmenting queries for 'video8257'\n"
          ]
        },
        {
          "output_type": "stream",
          "name": "stderr",
          "text": [
            "\rProcessing videos:  91%|█████████ | 912/1000 [10:30<07:28,  5.10s/it]"
          ]
        },
        {
          "output_type": "stream",
          "name": "stdout",
          "text": [
            "\n",
            "Now augmenting queries for 'video8751'\n"
          ]
        },
        {
          "output_type": "stream",
          "name": "stderr",
          "text": [
            "\rProcessing videos:  91%|█████████▏| 913/1000 [10:34<06:56,  4.79s/it]"
          ]
        },
        {
          "output_type": "stream",
          "name": "stdout",
          "text": [
            "\n",
            "Now augmenting queries for 'video9307'\n"
          ]
        },
        {
          "output_type": "stream",
          "name": "stderr",
          "text": [
            "\rProcessing videos:  91%|█████████▏| 914/1000 [10:39<06:49,  4.76s/it]"
          ]
        },
        {
          "output_type": "stream",
          "name": "stdout",
          "text": [
            "\n",
            "Now augmenting queries for 'video9230'\n"
          ]
        },
        {
          "output_type": "stream",
          "name": "stderr",
          "text": [
            "\rProcessing videos:  92%|█████████▏| 915/1000 [10:42<06:10,  4.36s/it]"
          ]
        },
        {
          "output_type": "stream",
          "name": "stdout",
          "text": [
            "\n",
            "Now augmenting queries for 'video7724'\n"
          ]
        },
        {
          "output_type": "stream",
          "name": "stderr",
          "text": [
            "\rProcessing videos:  92%|█████████▏| 916/1000 [10:48<06:43,  4.81s/it]"
          ]
        },
        {
          "output_type": "stream",
          "name": "stdout",
          "text": [
            "\n",
            "Now augmenting queries for 'video7723'\n"
          ]
        },
        {
          "output_type": "stream",
          "name": "stderr",
          "text": [
            "\rProcessing videos:  92%|█████████▏| 917/1000 [10:52<06:22,  4.61s/it]"
          ]
        },
        {
          "output_type": "stream",
          "name": "stdout",
          "text": [
            "\n",
            "Now augmenting queries for 'video9017'\n"
          ]
        },
        {
          "output_type": "stream",
          "name": "stderr",
          "text": [
            "\rProcessing videos:  92%|█████████▏| 918/1000 [10:56<05:55,  4.34s/it]"
          ]
        },
        {
          "output_type": "stream",
          "name": "stdout",
          "text": [
            "\n",
            "Now augmenting queries for 'video9348'\n"
          ]
        },
        {
          "output_type": "stream",
          "name": "stderr",
          "text": [
            "\rProcessing videos:  92%|█████████▏| 919/1000 [11:05<07:52,  5.84s/it]"
          ]
        },
        {
          "output_type": "stream",
          "name": "stdout",
          "text": [
            "\n",
            "Now augmenting queries for 'video7978'\n"
          ]
        },
        {
          "output_type": "stream",
          "name": "stderr",
          "text": [
            "\rProcessing videos:  92%|█████████▏| 920/1000 [11:11<07:35,  5.69s/it]"
          ]
        },
        {
          "output_type": "stream",
          "name": "stdout",
          "text": [
            "\n",
            "Now augmenting queries for 'video8665'\n"
          ]
        },
        {
          "output_type": "stream",
          "name": "stderr",
          "text": [
            "\rProcessing videos:  92%|█████████▏| 921/1000 [11:19<08:25,  6.40s/it]"
          ]
        },
        {
          "output_type": "stream",
          "name": "stdout",
          "text": [
            "\n",
            "Now augmenting queries for 'video9203'\n"
          ]
        },
        {
          "output_type": "stream",
          "name": "stderr",
          "text": [
            "\rProcessing videos:  92%|█████████▏| 922/1000 [11:25<08:01,  6.18s/it]"
          ]
        },
        {
          "output_type": "stream",
          "name": "stdout",
          "text": [
            "\n",
            "Now augmenting queries for 'video9024'\n"
          ]
        },
        {
          "output_type": "stream",
          "name": "stderr",
          "text": [
            "\rProcessing videos:  92%|█████████▏| 923/1000 [11:31<08:10,  6.37s/it]"
          ]
        },
        {
          "output_type": "stream",
          "name": "stdout",
          "text": [
            "\n",
            "Now augmenting queries for 'video7234'\n"
          ]
        },
        {
          "output_type": "stream",
          "name": "stderr",
          "text": [
            "\rProcessing videos:  92%|█████████▏| 924/1000 [11:36<07:34,  5.98s/it]"
          ]
        },
        {
          "output_type": "stream",
          "name": "stdout",
          "text": [
            "\n",
            "Now augmenting queries for 'video8025'\n"
          ]
        },
        {
          "output_type": "stream",
          "name": "stderr",
          "text": [
            "\rProcessing videos:  92%|█████████▎| 925/1000 [11:43<07:38,  6.11s/it]"
          ]
        },
        {
          "output_type": "stream",
          "name": "stdout",
          "text": [
            "\n",
            "Now augmenting queries for 'video8118'\n"
          ]
        },
        {
          "output_type": "stream",
          "name": "stderr",
          "text": [
            "\rProcessing videos:  93%|█████████▎| 926/1000 [11:48<07:14,  5.87s/it]"
          ]
        },
        {
          "output_type": "stream",
          "name": "stdout",
          "text": [
            "\n",
            "Now augmenting queries for 'video7491'\n"
          ]
        },
        {
          "output_type": "stream",
          "name": "stderr",
          "text": [
            "\rProcessing videos:  93%|█████████▎| 927/1000 [11:56<07:48,  6.42s/it]"
          ]
        },
        {
          "output_type": "stream",
          "name": "stdout",
          "text": [
            "\n",
            "Now augmenting queries for 'video7352'\n"
          ]
        },
        {
          "output_type": "stream",
          "name": "stderr",
          "text": [
            "\rProcessing videos:  93%|█████████▎| 928/1000 [12:01<07:06,  5.92s/it]"
          ]
        },
        {
          "output_type": "stream",
          "name": "stdout",
          "text": [
            "\n",
            "Now augmenting queries for 'video9639'\n"
          ]
        },
        {
          "output_type": "stream",
          "name": "stderr",
          "text": [
            "\rProcessing videos:  93%|█████████▎| 929/1000 [12:06<06:48,  5.75s/it]"
          ]
        },
        {
          "output_type": "stream",
          "name": "stdout",
          "text": [
            "\n",
            "Now augmenting queries for 'video8129'\n"
          ]
        },
        {
          "output_type": "stream",
          "name": "stderr",
          "text": [
            "\rProcessing videos:  93%|█████████▎| 930/1000 [12:10<06:09,  5.28s/it]"
          ]
        },
        {
          "output_type": "stream",
          "name": "stdout",
          "text": [
            "\n",
            "Now augmenting queries for 'video7415'\n"
          ]
        },
        {
          "output_type": "stream",
          "name": "stderr",
          "text": [
            "\rProcessing videos:  93%|█████████▎| 931/1000 [12:15<05:46,  5.02s/it]"
          ]
        },
        {
          "output_type": "stream",
          "name": "stdout",
          "text": [
            "\n",
            "Now augmenting queries for 'video9503'\n"
          ]
        },
        {
          "output_type": "stream",
          "name": "stderr",
          "text": [
            "\rProcessing videos:  93%|█████████▎| 932/1000 [12:19<05:34,  4.91s/it]"
          ]
        },
        {
          "output_type": "stream",
          "name": "stdout",
          "text": [
            "\n",
            "Now augmenting queries for 'video7669'\n"
          ]
        },
        {
          "output_type": "stream",
          "name": "stderr",
          "text": [
            "\rProcessing videos:  93%|█████████▎| 933/1000 [12:24<05:29,  4.91s/it]"
          ]
        },
        {
          "output_type": "stream",
          "name": "stdout",
          "text": [
            "\n",
            "Now augmenting queries for 'video9026'\n"
          ]
        },
        {
          "output_type": "stream",
          "name": "stderr",
          "text": [
            "\rProcessing videos:  93%|█████████▎| 934/1000 [12:29<05:26,  4.94s/it]"
          ]
        },
        {
          "output_type": "stream",
          "name": "stdout",
          "text": [
            "\n",
            "Now augmenting queries for 'video9752'\n"
          ]
        },
        {
          "output_type": "stream",
          "name": "stderr",
          "text": [
            "\rProcessing videos:  94%|█████████▎| 935/1000 [12:34<05:22,  4.97s/it]"
          ]
        },
        {
          "output_type": "stream",
          "name": "stdout",
          "text": [
            "\n",
            "Now augmenting queries for 'video8514'\n"
          ]
        },
        {
          "output_type": "stream",
          "name": "stderr",
          "text": [
            "\rProcessing videos:  94%|█████████▎| 936/1000 [12:39<05:21,  5.03s/it]"
          ]
        },
        {
          "output_type": "stream",
          "name": "stdout",
          "text": [
            "\n",
            "Now augmenting queries for 'video9975'\n"
          ]
        },
        {
          "output_type": "stream",
          "name": "stderr",
          "text": [
            "\rProcessing videos:  94%|█████████▎| 937/1000 [12:44<05:03,  4.81s/it]"
          ]
        },
        {
          "output_type": "stream",
          "name": "stdout",
          "text": [
            "\n",
            "Now augmenting queries for 'video7790'\n"
          ]
        },
        {
          "output_type": "stream",
          "name": "stderr",
          "text": [
            "\rProcessing videos:  94%|█████████▍| 938/1000 [12:49<05:14,  5.08s/it]"
          ]
        },
        {
          "output_type": "stream",
          "name": "stdout",
          "text": [
            "\n",
            "Now augmenting queries for 'video8868'\n"
          ]
        },
        {
          "output_type": "stream",
          "name": "stderr",
          "text": [
            "\rProcessing videos:  94%|█████████▍| 939/1000 [12:54<05:09,  5.07s/it]"
          ]
        },
        {
          "output_type": "stream",
          "name": "stdout",
          "text": [
            "\n",
            "Now augmenting queries for 'video8241'\n"
          ]
        },
        {
          "output_type": "stream",
          "name": "stderr",
          "text": [
            "\rProcessing videos:  94%|█████████▍| 940/1000 [13:00<05:09,  5.17s/it]"
          ]
        },
        {
          "output_type": "stream",
          "name": "stdout",
          "text": [
            "\n",
            "Now augmenting queries for 'video8248'\n"
          ]
        },
        {
          "output_type": "stream",
          "name": "stderr",
          "text": [
            "\rProcessing videos:  94%|█████████▍| 941/1000 [13:03<04:34,  4.64s/it]"
          ]
        },
        {
          "output_type": "stream",
          "name": "stdout",
          "text": [
            "\n",
            "Now augmenting queries for 'video8908'\n"
          ]
        },
        {
          "output_type": "stream",
          "name": "stderr",
          "text": [
            "\rProcessing videos:  94%|█████████▍| 942/1000 [13:08<04:28,  4.63s/it]"
          ]
        },
        {
          "output_type": "stream",
          "name": "stdout",
          "text": [
            "\n",
            "Now augmenting queries for 'video8426'\n"
          ]
        },
        {
          "output_type": "stream",
          "name": "stderr",
          "text": [
            "\rProcessing videos:  94%|█████████▍| 943/1000 [13:12<04:17,  4.52s/it]"
          ]
        },
        {
          "output_type": "stream",
          "name": "stdout",
          "text": [
            "\n",
            "Now augmenting queries for 'video8300'\n"
          ]
        },
        {
          "output_type": "stream",
          "name": "stderr",
          "text": [
            "\rProcessing videos:  94%|█████████▍| 944/1000 [13:16<03:59,  4.27s/it]"
          ]
        },
        {
          "output_type": "stream",
          "name": "stdout",
          "text": [
            "\n",
            "Now augmenting queries for 'video9810'\n"
          ]
        },
        {
          "output_type": "stream",
          "name": "stderr",
          "text": [
            "\rProcessing videos:  94%|█████████▍| 945/1000 [13:21<04:03,  4.43s/it]"
          ]
        },
        {
          "output_type": "stream",
          "name": "stdout",
          "text": [
            "\n",
            "Now augmenting queries for 'video7725'\n"
          ]
        },
        {
          "output_type": "stream",
          "name": "stderr",
          "text": [
            "\rProcessing videos:  95%|█████████▍| 946/1000 [13:24<03:45,  4.18s/it]"
          ]
        },
        {
          "output_type": "stream",
          "name": "stdout",
          "text": [
            "\n",
            "Now augmenting queries for 'video7028'\n"
          ]
        },
        {
          "output_type": "stream",
          "name": "stderr",
          "text": [
            "\rProcessing videos:  95%|█████████▍| 947/1000 [13:30<04:03,  4.59s/it]"
          ]
        },
        {
          "output_type": "stream",
          "name": "stdout",
          "text": [
            "\n",
            "Now augmenting queries for 'video8312'\n"
          ]
        },
        {
          "output_type": "stream",
          "name": "stderr",
          "text": [
            "\rProcessing videos:  95%|█████████▍| 948/1000 [13:35<04:06,  4.74s/it]"
          ]
        },
        {
          "output_type": "stream",
          "name": "stdout",
          "text": [
            "\n",
            "Now augmenting queries for 'video9117'\n"
          ]
        },
        {
          "output_type": "stream",
          "name": "stderr",
          "text": [
            "\rProcessing videos:  95%|█████████▍| 949/1000 [13:38<03:38,  4.27s/it]"
          ]
        },
        {
          "output_type": "stream",
          "name": "stdout",
          "text": [
            "\n",
            "Now augmenting queries for 'video7854'\n"
          ]
        },
        {
          "output_type": "stream",
          "name": "stderr",
          "text": [
            "\rProcessing videos:  95%|█████████▌| 950/1000 [13:45<04:19,  5.19s/it]"
          ]
        },
        {
          "output_type": "stream",
          "name": "stdout",
          "text": [
            "\n",
            "Now augmenting queries for 'video7411'\n"
          ]
        },
        {
          "output_type": "stream",
          "name": "stderr",
          "text": [
            "\rProcessing videos:  95%|█████████▌| 951/1000 [13:50<04:11,  5.13s/it]"
          ]
        },
        {
          "output_type": "stream",
          "name": "stdout",
          "text": [
            "\n",
            "Now augmenting queries for 'video9774'\n"
          ]
        },
        {
          "output_type": "stream",
          "name": "stderr",
          "text": [
            "\rProcessing videos:  95%|█████████▌| 952/1000 [13:54<03:47,  4.73s/it]"
          ]
        },
        {
          "output_type": "stream",
          "name": "stdout",
          "text": [
            "\n",
            "Now augmenting queries for 'video7834'\n"
          ]
        },
        {
          "output_type": "stream",
          "name": "stderr",
          "text": [
            "\rProcessing videos:  95%|█████████▌| 953/1000 [13:58<03:24,  4.36s/it]"
          ]
        },
        {
          "output_type": "stream",
          "name": "stdout",
          "text": [
            "\n",
            "Now augmenting queries for 'video7890'\n"
          ]
        },
        {
          "output_type": "stream",
          "name": "stderr",
          "text": [
            "\rProcessing videos:  95%|█████████▌| 954/1000 [14:01<03:06,  4.05s/it]"
          ]
        },
        {
          "output_type": "stream",
          "name": "stdout",
          "text": [
            "\n",
            "Now augmenting queries for 'video9037'\n"
          ]
        },
        {
          "output_type": "stream",
          "name": "stderr",
          "text": [
            "\rProcessing videos:  96%|█████████▌| 955/1000 [14:05<02:56,  3.92s/it]"
          ]
        },
        {
          "output_type": "stream",
          "name": "stdout",
          "text": [
            "\n",
            "Now augmenting queries for 'video9309'\n"
          ]
        },
        {
          "output_type": "stream",
          "name": "stderr",
          "text": [
            "\rProcessing videos:  96%|█████████▌| 956/1000 [14:12<03:44,  5.11s/it]"
          ]
        },
        {
          "output_type": "stream",
          "name": "stdout",
          "text": [
            "\n",
            "Now augmenting queries for 'video9508'\n"
          ]
        },
        {
          "output_type": "stream",
          "name": "stderr",
          "text": [
            "\rProcessing videos:  96%|█████████▌| 957/1000 [14:17<03:33,  4.95s/it]"
          ]
        },
        {
          "output_type": "stream",
          "name": "stdout",
          "text": [
            "\n",
            "Now augmenting queries for 'video9232'\n"
          ]
        },
        {
          "output_type": "stream",
          "name": "stderr",
          "text": [
            "\rProcessing videos:  96%|█████████▌| 958/1000 [14:22<03:23,  4.84s/it]"
          ]
        },
        {
          "output_type": "stream",
          "name": "stdout",
          "text": [
            "\n",
            "Now augmenting queries for 'video7371'\n"
          ]
        },
        {
          "output_type": "stream",
          "name": "stderr",
          "text": [
            "\rProcessing videos:  96%|█████████▌| 959/1000 [14:32<04:26,  6.50s/it]"
          ]
        },
        {
          "output_type": "stream",
          "name": "stdout",
          "text": [
            "\n",
            "Now augmenting queries for 'video7686'\n"
          ]
        },
        {
          "output_type": "stream",
          "name": "stderr",
          "text": [
            "\rProcessing videos:  96%|█████████▌| 960/1000 [14:37<03:57,  5.94s/it]"
          ]
        },
        {
          "output_type": "stream",
          "name": "stdout",
          "text": [
            "\n",
            "Now augmenting queries for 'video9339'\n"
          ]
        },
        {
          "output_type": "stream",
          "name": "stderr",
          "text": [
            "\rProcessing videos:  96%|█████████▌| 961/1000 [14:41<03:31,  5.43s/it]"
          ]
        },
        {
          "output_type": "stream",
          "name": "stdout",
          "text": [
            "\n",
            "Now augmenting queries for 'video8682'\n"
          ]
        },
        {
          "output_type": "stream",
          "name": "stderr",
          "text": [
            "\rProcessing videos:  96%|█████████▌| 962/1000 [14:45<03:08,  4.97s/it]"
          ]
        },
        {
          "output_type": "stream",
          "name": "stdout",
          "text": [
            "\n",
            "Now augmenting queries for 'video9698'\n"
          ]
        },
        {
          "output_type": "stream",
          "name": "stderr",
          "text": [
            "\rProcessing videos:  96%|█████████▋| 963/1000 [14:48<02:46,  4.49s/it]"
          ]
        },
        {
          "output_type": "stream",
          "name": "stdout",
          "text": [
            "\n",
            "Now augmenting queries for 'video9409'\n"
          ]
        },
        {
          "output_type": "stream",
          "name": "stderr",
          "text": [
            "\rProcessing videos:  96%|█████████▋| 964/1000 [14:51<02:27,  4.11s/it]"
          ]
        },
        {
          "output_type": "stream",
          "name": "stdout",
          "text": [
            "\n",
            "Now augmenting queries for 'video9335'\n"
          ]
        },
        {
          "output_type": "stream",
          "name": "stderr",
          "text": [
            "\rProcessing videos:  96%|█████████▋| 965/1000 [14:55<02:21,  4.04s/it]"
          ]
        },
        {
          "output_type": "stream",
          "name": "stdout",
          "text": [
            "\n",
            "Now augmenting queries for 'video7155'\n"
          ]
        },
        {
          "output_type": "stream",
          "name": "stderr",
          "text": [
            "\rProcessing videos:  97%|█████████▋| 966/1000 [14:58<02:06,  3.72s/it]"
          ]
        },
        {
          "output_type": "stream",
          "name": "stdout",
          "text": [
            "\n",
            "Now augmenting queries for 'video9620'\n"
          ]
        },
        {
          "output_type": "stream",
          "name": "stderr",
          "text": [
            "\rProcessing videos:  97%|█████████▋| 967/1000 [15:01<01:55,  3.51s/it]"
          ]
        },
        {
          "output_type": "stream",
          "name": "stdout",
          "text": [
            "\n",
            "Now augmenting queries for 'video9228'\n"
          ]
        },
        {
          "output_type": "stream",
          "name": "stderr",
          "text": [
            "\rProcessing videos:  97%|█████████▋| 968/1000 [15:05<01:51,  3.49s/it]"
          ]
        },
        {
          "output_type": "stream",
          "name": "stdout",
          "text": [
            "\n",
            "Now augmenting queries for 'video9625'\n"
          ]
        },
        {
          "output_type": "stream",
          "name": "stderr",
          "text": [
            "\rProcessing videos:  97%|█████████▋| 969/1000 [15:09<01:57,  3.79s/it]"
          ]
        },
        {
          "output_type": "stream",
          "name": "stdout",
          "text": [
            "\n",
            "Now augmenting queries for 'video9824'\n"
          ]
        },
        {
          "output_type": "stream",
          "name": "stderr",
          "text": [
            "\rProcessing videos:  97%|█████████▋| 970/1000 [15:13<01:54,  3.80s/it]"
          ]
        },
        {
          "output_type": "stream",
          "name": "stdout",
          "text": [
            "\n",
            "Now augmenting queries for 'video7632'\n"
          ]
        },
        {
          "output_type": "stream",
          "name": "stderr",
          "text": [
            "\rProcessing videos:  97%|█████████▋| 971/1000 [15:17<01:52,  3.87s/it]"
          ]
        },
        {
          "output_type": "stream",
          "name": "stdout",
          "text": [
            "\n",
            "Now augmenting queries for 'video7565'\n"
          ]
        },
        {
          "output_type": "stream",
          "name": "stderr",
          "text": [
            "\rProcessing videos:  97%|█████████▋| 972/1000 [15:21<01:50,  3.95s/it]"
          ]
        },
        {
          "output_type": "stream",
          "name": "stdout",
          "text": [
            "\n",
            "Now augmenting queries for 'video7744'\n"
          ]
        },
        {
          "output_type": "stream",
          "name": "stderr",
          "text": [
            "\rProcessing videos:  97%|█████████▋| 973/1000 [15:25<01:50,  4.09s/it]"
          ]
        },
        {
          "output_type": "stream",
          "name": "stdout",
          "text": [
            "\n",
            "Now augmenting queries for 'video9885'\n"
          ]
        },
        {
          "output_type": "stream",
          "name": "stderr",
          "text": [
            "\rProcessing videos:  97%|█████████▋| 974/1000 [15:28<01:37,  3.76s/it]"
          ]
        },
        {
          "output_type": "stream",
          "name": "stdout",
          "text": [
            "\n",
            "Now augmenting queries for 'video9405'\n"
          ]
        },
        {
          "output_type": "stream",
          "name": "stderr",
          "text": [
            "\rProcessing videos:  98%|█████████▊| 975/1000 [15:32<01:28,  3.55s/it]"
          ]
        },
        {
          "output_type": "stream",
          "name": "stdout",
          "text": [
            "\n",
            "Now augmenting queries for 'video9016'\n"
          ]
        },
        {
          "output_type": "stream",
          "name": "stderr",
          "text": [
            "\rProcessing videos:  98%|█████████▊| 976/1000 [15:36<01:28,  3.68s/it]"
          ]
        },
        {
          "output_type": "stream",
          "name": "stdout",
          "text": [
            "\n",
            "Now augmenting queries for 'video9320'\n"
          ]
        },
        {
          "output_type": "stream",
          "name": "stderr",
          "text": [
            "\rProcessing videos:  98%|█████████▊| 977/1000 [15:40<01:31,  3.98s/it]"
          ]
        },
        {
          "output_type": "stream",
          "name": "stdout",
          "text": [
            "\n",
            "Now augmenting queries for 'video9119'\n"
          ]
        },
        {
          "output_type": "stream",
          "name": "stderr",
          "text": [
            "\rProcessing videos:  98%|█████████▊| 978/1000 [15:44<01:28,  4.04s/it]"
          ]
        },
        {
          "output_type": "stream",
          "name": "stdout",
          "text": [
            "\n",
            "Now augmenting queries for 'video7799'\n"
          ]
        },
        {
          "output_type": "stream",
          "name": "stderr",
          "text": [
            "\rProcessing videos:  98%|█████████▊| 979/1000 [15:54<01:59,  5.68s/it]"
          ]
        },
        {
          "output_type": "stream",
          "name": "stdout",
          "text": [
            "\n",
            "Now augmenting queries for 'video7205'\n"
          ]
        },
        {
          "output_type": "stream",
          "name": "stderr",
          "text": [
            "\rProcessing videos:  98%|█████████▊| 980/1000 [15:58<01:42,  5.10s/it]"
          ]
        },
        {
          "output_type": "stream",
          "name": "stdout",
          "text": [
            "\n",
            "Now augmenting queries for 'video8260'\n"
          ]
        },
        {
          "output_type": "stream",
          "name": "stderr",
          "text": [
            "\rProcessing videos:  98%|█████████▊| 981/1000 [16:02<01:31,  4.82s/it]"
          ]
        },
        {
          "output_type": "stream",
          "name": "stdout",
          "text": [
            "\n",
            "Now augmenting queries for 'video9452'\n"
          ]
        },
        {
          "output_type": "stream",
          "name": "stderr",
          "text": [
            "\rProcessing videos:  98%|█████████▊| 982/1000 [16:07<01:27,  4.88s/it]"
          ]
        },
        {
          "output_type": "stream",
          "name": "stdout",
          "text": [
            "\n",
            "Now augmenting queries for 'video9609'\n"
          ]
        },
        {
          "output_type": "stream",
          "name": "stderr",
          "text": [
            "\rProcessing videos:  98%|█████████▊| 983/1000 [16:13<01:28,  5.23s/it]"
          ]
        },
        {
          "output_type": "stream",
          "name": "stdout",
          "text": [
            "\n",
            "Now augmenting queries for 'video8865'\n"
          ]
        },
        {
          "output_type": "stream",
          "name": "stderr",
          "text": [
            "\rProcessing videos:  98%|█████████▊| 984/1000 [16:17<01:20,  5.02s/it]"
          ]
        },
        {
          "output_type": "stream",
          "name": "stdout",
          "text": [
            "\n",
            "Now augmenting queries for 'video9428'\n"
          ]
        },
        {
          "output_type": "stream",
          "name": "stderr",
          "text": [
            "\rProcessing videos:  98%|█████████▊| 985/1000 [16:23<01:15,  5.04s/it]"
          ]
        },
        {
          "output_type": "stream",
          "name": "stdout",
          "text": [
            "\n",
            "Now augmenting queries for 'video7431'\n"
          ]
        },
        {
          "output_type": "stream",
          "name": "stderr",
          "text": [
            "\rProcessing videos:  99%|█████████▊| 986/1000 [16:28<01:10,  5.06s/it]"
          ]
        },
        {
          "output_type": "stream",
          "name": "stdout",
          "text": [
            "\n",
            "Now augmenting queries for 'video7963'\n"
          ]
        },
        {
          "output_type": "stream",
          "name": "stderr",
          "text": [
            "\rProcessing videos:  99%|█████████▊| 987/1000 [16:31<01:00,  4.66s/it]"
          ]
        },
        {
          "output_type": "stream",
          "name": "stdout",
          "text": [
            "\n",
            "Now augmenting queries for 'video8243'\n"
          ]
        },
        {
          "output_type": "stream",
          "name": "stderr",
          "text": [
            "\rProcessing videos:  99%|█████████▉| 988/1000 [16:38<01:03,  5.32s/it]"
          ]
        },
        {
          "output_type": "stream",
          "name": "stdout",
          "text": [
            "\n",
            "Now augmenting queries for 'video7571'\n"
          ]
        },
        {
          "output_type": "stream",
          "name": "stderr",
          "text": [
            "\rProcessing videos:  99%|█████████▉| 989/1000 [16:43<00:55,  5.09s/it]"
          ]
        },
        {
          "output_type": "stream",
          "name": "stdout",
          "text": [
            "\n",
            "Now augmenting queries for 'video7333'\n"
          ]
        },
        {
          "output_type": "stream",
          "name": "stderr",
          "text": [
            "\rProcessing videos:  99%|█████████▉| 990/1000 [16:46<00:45,  4.52s/it]"
          ]
        },
        {
          "output_type": "stream",
          "name": "stdout",
          "text": [
            "\n",
            "Now augmenting queries for 'video7592'\n"
          ]
        },
        {
          "output_type": "stream",
          "name": "stderr",
          "text": [
            "\rProcessing videos:  99%|█████████▉| 991/1000 [16:50<00:40,  4.47s/it]"
          ]
        },
        {
          "output_type": "stream",
          "name": "stdout",
          "text": [
            "\n",
            "Now augmenting queries for 'video7204'\n"
          ]
        },
        {
          "output_type": "stream",
          "name": "stderr",
          "text": [
            "\rProcessing videos:  99%|█████████▉| 992/1000 [16:55<00:35,  4.42s/it]"
          ]
        },
        {
          "output_type": "stream",
          "name": "stdout",
          "text": [
            "\n",
            "Now augmenting queries for 'video7171'\n"
          ]
        },
        {
          "output_type": "stream",
          "name": "stderr",
          "text": [
            "\rProcessing videos:  99%|█████████▉| 993/1000 [17:00<00:32,  4.69s/it]"
          ]
        },
        {
          "output_type": "stream",
          "name": "stdout",
          "text": [
            "\n",
            "Now augmenting queries for 'video7528'\n"
          ]
        },
        {
          "output_type": "stream",
          "name": "stderr",
          "text": [
            "\rProcessing videos:  99%|█████████▉| 994/1000 [17:06<00:29,  4.98s/it]"
          ]
        },
        {
          "output_type": "stream",
          "name": "stdout",
          "text": [
            "\n",
            "Now augmenting queries for 'video9246'\n"
          ]
        },
        {
          "output_type": "stream",
          "name": "stderr",
          "text": [
            "\rProcessing videos: 100%|█████████▉| 995/1000 [17:11<00:25,  5.07s/it]"
          ]
        },
        {
          "output_type": "stream",
          "name": "stdout",
          "text": [
            "\n",
            "Now augmenting queries for 'video9581'\n"
          ]
        },
        {
          "output_type": "stream",
          "name": "stderr",
          "text": [
            "\rProcessing videos: 100%|█████████▉| 996/1000 [17:16<00:20,  5.21s/it]"
          ]
        },
        {
          "output_type": "stream",
          "name": "stdout",
          "text": [
            "\n",
            "Now augmenting queries for 'video7946'\n"
          ]
        },
        {
          "output_type": "stream",
          "name": "stderr",
          "text": [
            "\rProcessing videos: 100%|█████████▉| 997/1000 [17:21<00:14,  4.96s/it]"
          ]
        },
        {
          "output_type": "stream",
          "name": "stdout",
          "text": [
            "\n",
            "Now augmenting queries for 'video7795'\n"
          ]
        },
        {
          "output_type": "stream",
          "name": "stderr",
          "text": [
            "\rProcessing videos: 100%|█████████▉| 998/1000 [17:25<00:09,  4.60s/it]"
          ]
        },
        {
          "output_type": "stream",
          "name": "stdout",
          "text": [
            "\n",
            "Now augmenting queries for 'video7112'\n"
          ]
        },
        {
          "output_type": "stream",
          "name": "stderr",
          "text": [
            "\rProcessing videos: 100%|█████████▉| 999/1000 [17:28<00:04,  4.32s/it]"
          ]
        },
        {
          "output_type": "stream",
          "name": "stdout",
          "text": [
            "\n",
            "Now augmenting queries for 'video8978'\n"
          ]
        },
        {
          "output_type": "stream",
          "name": "stderr",
          "text": [
            "Processing videos: 100%|██████████| 1000/1000 [17:33<00:00,  1.05s/it]"
          ]
        },
        {
          "output_type": "stream",
          "name": "stdout",
          "text": [
            "\n",
            "Augmentation process complete.\n",
            "Final augmented data saved to: /content/output_MSRVTT.json\n"
          ]
        },
        {
          "output_type": "stream",
          "name": "stderr",
          "text": [
            "\n"
          ]
        }
      ]
    },
    {
      "cell_type": "code",
      "source": [
        "# Step 1: Mount Google Drive\n",
        "from google.colab import drive\n",
        "import shutil\n",
        "import os\n",
        "\n",
        "# Mount Google Drive\n",
        "drive.mount('/content/drive')\n",
        "\n",
        "# Step 2: Define file paths\n",
        "colab_json_path = \"/content/output_MSRVTT.json\"  # Existing file in Colab\n",
        "drive_json_path = \"/content/drive/My Drive/output_MSRVTT.json\"  # Destination in Drive\n",
        "\n",
        "# Step 3: Check if the file exists in Colab\n",
        "if os.path.exists(colab_json_path):\n",
        "    # Copy the file from Colab to Google Drive\n",
        "    shutil.copy(colab_json_path, drive_json_path)\n",
        "    print(f\"File successfully saved to Google Drive at: {drive_json_path}\")\n",
        "else:\n",
        "    print(f\"Error: File not found at {colab_json_path}\")\n"
      ],
      "metadata": {
        "colab": {
          "base_uri": "https://localhost:8080/"
        },
        "id": "U1R3UZ1f_Izv",
        "outputId": "5eb24f28-0bc8-41d4-e819-6dcf769258c1"
      },
      "execution_count": null,
      "outputs": [
        {
          "output_type": "stream",
          "name": "stdout",
          "text": [
            "Drive already mounted at /content/drive; to attempt to forcibly remount, call drive.mount(\"/content/drive\", force_remount=True).\n",
            "File successfully saved to Google Drive at: /content/drive/My Drive/output_MSRVTT.json\n"
          ]
        }
      ]
    },
    {
      "cell_type": "code",
      "source": [],
      "metadata": {
        "id": "FZCF-yk2dCWZ"
      },
      "execution_count": null,
      "outputs": []
    }
  ]
}